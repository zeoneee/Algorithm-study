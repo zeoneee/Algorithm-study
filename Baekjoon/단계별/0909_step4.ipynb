{
 "cells": [
  {
   "cell_type": "markdown",
   "metadata": {},
   "source": [
    "### 10952. A+B-5"
   ]
  },
  {
   "cell_type": "code",
   "execution_count": 3,
   "metadata": {},
   "outputs": [
    {
     "name": "stdout",
     "output_type": "stream",
     "text": [
      "1 1\n",
      "2 3\n",
      "3 4\n",
      "9 8\n",
      "5 2\n",
      "0 0\n",
      "2\n",
      "5\n",
      "7\n",
      "17\n",
      "7\n"
     ]
    }
   ],
   "source": [
    "a,b = map(int,input().split())\n",
    "li=[]\n",
    "while a!=0 or b!=0:\n",
    "    li.append(a+b)\n",
    "    a,b = map(int,input().split())\n",
    "\n",
    "i=0\n",
    "while i<len(li):\n",
    "    print(li[i])\n",
    "    i+=1"
   ]
  },
  {
   "cell_type": "markdown",
   "metadata": {},
   "source": [
    "### 10951. A+B-4"
   ]
  },
  {
   "cell_type": "code",
   "execution_count": 10,
   "metadata": {},
   "outputs": [
    {
     "name": "stdout",
     "output_type": "stream",
     "text": [
      "1 1\n",
      "2\n",
      "2 3\n",
      "5\n",
      "3 4\n",
      "7\n",
      "9 8\n",
      "17\n",
      "5 2\n",
      "7\n"
     ]
    }
   ],
   "source": [
    "# try - except구문 활용 \n",
    "# 수가 입력되지 않아서 에러가 발생하면 반복문을 끝낼 수 있도록 \n",
    " \n",
    "while True:\n",
    "    try:\n",
    "        a,b = map(int,input().split())\n",
    "    except:\n",
    "        break;\n",
    "    print(a+b)"
   ]
  },
  {
   "cell_type": "markdown",
   "metadata": {},
   "source": [
    "### 1110. 더하기 사이클"
   ]
  },
  {
   "cell_type": "code",
   "execution_count": 21,
   "metadata": {},
   "outputs": [
    {
     "name": "stdout",
     "output_type": "stream",
     "text": [
      "0\n",
      "1\n"
     ]
    }
   ],
   "source": [
    "n = int(input())\n",
    "cycle=0\n",
    "num = n\n",
    "while True:  \n",
    "    cycle+=1\n",
    "    if num<10:\n",
    "        n1=0; n2=num\n",
    "    else:\n",
    "        n1=num//10; n2=num%10;\n",
    "    num = (n2*10) + (n1+n2)%10\n",
    "    if num==n:\n",
    "        break\n",
    "print(cycle)"
   ]
  }
 ],
 "metadata": {
  "kernelspec": {
   "display_name": "Python 3",
   "language": "python",
   "name": "python3"
  },
  "language_info": {
   "codemirror_mode": {
    "name": "ipython",
    "version": 3
   },
   "file_extension": ".py",
   "mimetype": "text/x-python",
   "name": "python",
   "nbconvert_exporter": "python",
   "pygments_lexer": "ipython3",
   "version": "3.8.5"
  }
 },
 "nbformat": 4,
 "nbformat_minor": 4
}
