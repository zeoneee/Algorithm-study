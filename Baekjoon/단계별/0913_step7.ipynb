{
 "cells": [
  {
   "cell_type": "markdown",
   "metadata": {},
   "source": [
    "### 11654. 아스키 코드"
   ]
  },
  {
   "cell_type": "code",
   "execution_count": 8,
   "metadata": {},
   "outputs": [
    {
     "name": "stdout",
     "output_type": "stream",
     "text": [
      "9\n",
      "57\n"
     ]
    }
   ],
   "source": [
    "\"\"\"\n",
    "    파이썬 문자와 아스키코드 변환\n",
    "    문자 -> 아스키코드: ord()\n",
    "    아스키코드 -> 문자: chr()\n",
    "\"\"\"\n",
    "print(ord(input()))"
   ]
  },
  {
   "cell_type": "markdown",
   "metadata": {},
   "source": [
    "### 11720. 숫자의 합"
   ]
  },
  {
   "cell_type": "code",
   "execution_count": 27,
   "metadata": {},
   "outputs": [
    {
     "name": "stdout",
     "output_type": "stream",
     "text": [
      "5\n",
      "54321\n",
      "15\n"
     ]
    }
   ],
   "source": [
    "# sum은 예약어. 변수명으로 사용하면 절대안됨\n",
    "n=int(input())\n",
    "num=input(); nsum=0\n",
    "for i in num:\n",
    "    nsum +=int(i)\n",
    "print(nsum)    "
   ]
  },
  {
   "cell_type": "markdown",
   "metadata": {},
   "source": [
    "### 11720. 숫자의 합(2)"
   ]
  },
  {
   "cell_type": "code",
   "execution_count": 23,
   "metadata": {},
   "outputs": [
    {
     "name": "stdout",
     "output_type": "stream",
     "text": [
      "54321\n"
     ]
    },
    {
     "ename": "TypeError",
     "evalue": "'int' object is not callable",
     "output_type": "error",
     "traceback": [
      "\u001b[1;31m---------------------------------------------------------------------------\u001b[0m",
      "\u001b[1;31mTypeError\u001b[0m                                 Traceback (most recent call last)",
      "\u001b[1;32m<ipython-input-23-ac97eb300a94>\u001b[0m in \u001b[0;36m<module>\u001b[1;34m\u001b[0m\n\u001b[1;32m----> 1\u001b[1;33m \u001b[0mprint\u001b[0m\u001b[1;33m(\u001b[0m\u001b[0msum\u001b[0m\u001b[1;33m(\u001b[0m\u001b[0mmap\u001b[0m\u001b[1;33m(\u001b[0m\u001b[0mint\u001b[0m\u001b[1;33m,\u001b[0m \u001b[0minput\u001b[0m\u001b[1;33m(\u001b[0m\u001b[1;33m)\u001b[0m\u001b[1;33m)\u001b[0m\u001b[1;33m)\u001b[0m\u001b[1;33m)\u001b[0m\u001b[1;33m\u001b[0m\u001b[1;33m\u001b[0m\u001b[0m\n\u001b[0m",
      "\u001b[1;31mTypeError\u001b[0m: 'int' object is not callable"
     ]
    }
   ],
   "source": [
    "# 지금은 예약어 때문에 안되긴 하는데 한번에 더할 때 사용가능\n",
    "\"\"\"\n",
    "    sum()\n",
    "    : iterable(반복될 수 있는/array,list..)한 자료형을 받음 \n",
    "    : numeric -> 오직 숫자여야함\n",
    "    -> 인자로 들어온 iterable 내부 모든 요소의 합\n",
    "\"\"\"\n",
    "print(sum(map(int, input()))) "
   ]
  },
  {
   "cell_type": "markdown",
   "metadata": {},
   "source": [
    "### 10809. 알파벳 찾기"
   ]
  },
  {
   "cell_type": "code",
   "execution_count": 35,
   "metadata": {},
   "outputs": [
    {
     "name": "stdout",
     "output_type": "stream",
     "text": [
      "baekjoon\n",
      "1 0 -1 -1 2 -1 -1 -1 -1 4 3 -1 -1 7 5 -1 -1 -1 -1 -1 -1 -1 -1 -1 -1 -1 "
     ]
    }
   ],
   "source": [
    "\"\"\"\n",
    "    a.count('b')\n",
    "    a 문자열에서 b문자 개수 세기 \n",
    "    \n",
    "    a.find('b')\n",
    "    a 문자열 중에서 문자 b가 처음으로 나온 위치 반환\n",
    "    만약 찾는 문자나 문자열이 존재하지 않는다면 -1반환\n",
    "\"\"\"\n",
    "alph = input()\n",
    "for i in range(97,123,1):\n",
    "        print(alph.find(chr(i)),end=\" \")"
   ]
  },
  {
   "cell_type": "markdown",
   "metadata": {},
   "source": [
    "### 2675. 문자열 반복"
   ]
  },
  {
   "cell_type": "code",
   "execution_count": 43,
   "metadata": {},
   "outputs": [
    {
     "name": "stdout",
     "output_type": "stream",
     "text": [
      "2\n",
      "3 ABC\n",
      "AAABBBCCC\n",
      "5 /HTP\n",
      "/////HHHHHTTTTTPPPPP\n"
     ]
    }
   ],
   "source": [
    "\"\"\"\n",
    "    문자열을 여러 개 받고 싶을 때는 map()쓰지 x\n",
    "    그냥 input().split()하면 공백 단위로 나뉨\n",
    "\"\"\"\n",
    "n=int(input())\n",
    "for i in range(n):\n",
    "    num,s=input().split()\n",
    "    ss=\"\"\n",
    "    for j in s:\n",
    "        ss += j*int(num)\n",
    "    print(ss)"
   ]
  },
  {
   "cell_type": "markdown",
   "metadata": {},
   "source": [
    "### 1157. 단어 공부"
   ]
  },
  {
   "cell_type": "code",
   "execution_count": 93,
   "metadata": {},
   "outputs": [
    {
     "name": "stdout",
     "output_type": "stream",
     "text": [
      "zZa\n",
      "Z\n"
     ]
    }
   ],
   "source": [
    "\"\"\"\n",
    "    collections모듈의 Counter\n",
    "    : 데이터의 개수를 셀 때 유용\n",
    "    \n",
    "    from collections import Counter \n",
    "    Counter(str) : 쓰면 됨\n",
    "    \n",
    "    get(): 인자로 key를 입력하면 해당 key와 매칭되는 value반환 \n",
    "    \n",
    "    가장 많이나온 문자 출력\n",
    "    print(max(s,key=Counter(s).get))\n",
    "    \n",
    "\"\"\"\n",
    "from collections import Counter\n",
    "s = input()\n",
    "s = s.upper() #대문자로\n",
    "cnt = set(s)\n",
    "maxcnt = -1\n",
    "char=0\n",
    "for i in cnt:\n",
    "    if maxcnt < s.count(i):\n",
    "        maxcnt = s.count(i)\n",
    "        char = i\n",
    "    elif maxcnt == s.count(i):\n",
    "        char = -1\n",
    "if char==-1:\n",
    "    print(\"?\")\n",
    "else:\n",
    "    print(char)"
   ]
  },
  {
   "cell_type": "markdown",
   "metadata": {},
   "source": [
    "### 1152. 단어의 개수"
   ]
  },
  {
   "cell_type": "code",
   "execution_count": 96,
   "metadata": {},
   "outputs": [
    {
     "name": "stdout",
     "output_type": "stream",
     "text": [
      " The first character is a blank\n"
     ]
    },
    {
     "data": {
      "text/plain": [
       "6"
      ]
     },
     "execution_count": 96,
     "metadata": {},
     "output_type": "execute_result"
    }
   ],
   "source": [
    "li = list(input().split())\n",
    "print(len(li))"
   ]
  },
  {
   "cell_type": "markdown",
   "metadata": {},
   "source": [
    "### 2908. 상수"
   ]
  },
  {
   "cell_type": "code",
   "execution_count": 101,
   "metadata": {},
   "outputs": [
    {
     "name": "stdout",
     "output_type": "stream",
     "text": [
      "839 237\n",
      "938\n"
     ]
    }
   ],
   "source": [
    "\"\"\"\n",
    "    slice를 이용한 문자열 뒤집기\n",
    "    str[::-1]\n",
    "    -> 문자열이 뒤집어짐 \n",
    "\"\"\"\n",
    "a,b = input().split()\n",
    "a = a[::-1]; b=b[::-1]\n",
    "if int(a)>int(b):\n",
    "    print(a)\n",
    "else:\n",
    "    print(b)\n"
   ]
  },
  {
   "cell_type": "markdown",
   "metadata": {},
   "source": [
    "### 5622. 다이얼"
   ]
  },
  {
   "cell_type": "code",
   "execution_count": null,
   "metadata": {},
   "outputs": [],
   "source": []
  }
 ],
 "metadata": {
  "kernelspec": {
   "display_name": "Python 3",
   "language": "python",
   "name": "python3"
  },
  "language_info": {
   "codemirror_mode": {
    "name": "ipython",
    "version": 3
   },
   "file_extension": ".py",
   "mimetype": "text/x-python",
   "name": "python",
   "nbconvert_exporter": "python",
   "pygments_lexer": "ipython3",
   "version": "3.8.5"
  }
 },
 "nbformat": 4,
 "nbformat_minor": 4
}
