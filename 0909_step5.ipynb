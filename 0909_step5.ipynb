{
 "cells": [
  {
   "cell_type": "markdown",
   "metadata": {},
   "source": [
    "### 10818. 최소,최대"
   ]
  },
  {
   "cell_type": "code",
   "execution_count": 3,
   "metadata": {},
   "outputs": [
    {
     "name": "stdout",
     "output_type": "stream",
     "text": [
      "5\n",
      "20 10 35 30 7\n",
      "7 35\n"
     ]
    }
   ],
   "source": [
    "# 조건을 잘 읽자!! \n",
    "\n",
    "n = int(input())\n",
    "max = -1000000; min = 1000000\n",
    "li = list(map(int,input().split()))\n",
    "for i in range(n):\n",
    "    if li[i]>max:\n",
    "        max=li[i]\n",
    "    if li[i]<min:\n",
    "        min=li[i]\n",
    "print(min,max)"
   ]
  },
  {
   "cell_type": "markdown",
   "metadata": {},
   "source": [
    "### 2562. 최댓값"
   ]
  },
  {
   "cell_type": "code",
   "execution_count": 5,
   "metadata": {},
   "outputs": [
    {
     "name": "stdout",
     "output_type": "stream",
     "text": [
      "3\n",
      "29\n",
      "38\n",
      "12\n",
      "57\n",
      "74\n",
      "40\n",
      "85\n",
      "61\n",
      "85\n",
      "8\n"
     ]
    }
   ],
   "source": [
    "li=[]\n",
    "max = 0; idx=-1\n",
    "for i in range(9):\n",
    "    n = int(input())\n",
    "    li.append(n)\n",
    "for i in range(9):\n",
    "    if max<li[i]:\n",
    "        max=li[i]\n",
    "        idx=i\n",
    "print(max)\n",
    "print(idx+1)"
   ]
  },
  {
   "cell_type": "markdown",
   "metadata": {},
   "source": [
    "### 2577. 숫자의 개수"
   ]
  },
  {
   "cell_type": "code",
   "execution_count": 3,
   "metadata": {},
   "outputs": [
    {
     "name": "stdout",
     "output_type": "stream",
     "text": [
      "150\n",
      "266\n",
      "427\n",
      "3\n",
      "1\n",
      "0\n",
      "2\n",
      "0\n",
      "0\n",
      "0\n",
      "2\n",
      "0\n",
      "0\n"
     ]
    }
   ],
   "source": [
    "a = int(input())\n",
    "b = int(input())\n",
    "c = int(input())\n",
    "\n",
    "n=a*b*c\n",
    "i=1\n",
    "li=[]\n",
    "for i in range(10): # 0~9\n",
    "    li.append(0)\n",
    "\n",
    "while n>=10 :\n",
    "    cnt = n-(n//10)*10 #일의 자리 계속 구하기 \n",
    "    li[cnt]+=1\n",
    "    n = n//10 \n",
    "li[n]+=1\n",
    "\n",
    "for i in range(10):\n",
    "    print(li[i])"
   ]
  },
  {
   "cell_type": "markdown",
   "metadata": {},
   "source": [
    "### 3052. 나머지"
   ]
  },
  {
   "cell_type": "code",
   "execution_count": 6,
   "metadata": {},
   "outputs": [
    {
     "name": "stdout",
     "output_type": "stream",
     "text": [
      "42\n",
      "84\n",
      "252\n",
      "420\n",
      "840\n",
      "126\n",
      "42\n",
      "84\n",
      "420\n",
      "126\n",
      "1\n"
     ]
    }
   ],
   "source": [
    "li=[]\n",
    "cnt=0\n",
    "for i in range(42): # 0~44\n",
    "    li.append(0)\n",
    "\n",
    "for i in range(10):\n",
    "    n= int(input())\n",
    "    remain = n%42\n",
    "    li[remain]+=1\n",
    "for i in range(42): # 44번 turn하는게 상당히 비효율적인 느낌.. \n",
    "    if li[i]>0:\n",
    "        cnt+=1\n",
    "print(cnt)"
   ]
  },
  {
   "cell_type": "code",
   "execution_count": 11,
   "metadata": {},
   "outputs": [
    {
     "name": "stdout",
     "output_type": "stream",
     "text": [
      "39\n",
      "40\n",
      "41\n",
      "42\n",
      "43\n",
      "44\n",
      "82\n",
      "83\n",
      "84\n",
      "85\n",
      "6\n"
     ]
    }
   ],
   "source": [
    "# 더 효율적인 풀이 ! \n",
    "# set() : 집합의 성질을 가지는 함수/ 중복되지 않은 원소를 얻고자 할 때 사용 \n",
    "# -> 중복을 허용하지 않는다. 순서가 없다. 인덱싱x \n",
    "\n",
    "arr = [] \n",
    "for i in range(10):\n",
    "    n=int(input())\n",
    "    arr.append(n%42)\n",
    "arr = set(arr) # -> 중복값을 삭제하는 것 \n",
    "print(len(arr)) # -> 중복 없는 원소의 개수를 출력 "
   ]
  },
  {
   "cell_type": "markdown",
   "metadata": {},
   "source": [
    "### 1546. 평균"
   ]
  },
  {
   "cell_type": "code",
   "execution_count": 22,
   "metadata": {},
   "outputs": [
    {
     "name": "stdout",
     "output_type": "stream",
     "text": [
      "5\n",
      "1 2 4 8 16\n",
      "38.75\n"
     ]
    }
   ],
   "source": [
    "# sort()를 활용하자 \n",
    "\n",
    "n=int(input())\n",
    "score=list(map(int,input().split()))\n",
    "score.sort(reverse=True) # 내림차순으로 정렬 \n",
    "m = score[0]; sum=0\n",
    "\n",
    "for i in range(n):\n",
    "    score[i] = score[i]/m*100\n",
    "    sum+=score[i]\n",
    "print(sum/n)  "
   ]
  },
  {
   "cell_type": "markdown",
   "metadata": {},
   "source": [
    "### 8958. OX퀴즈"
   ]
  },
  {
   "cell_type": "code",
   "execution_count": 26,
   "metadata": {},
   "outputs": [
    {
     "name": "stdout",
     "output_type": "stream",
     "text": [
      "5\n",
      "OOXXOXXOOO\n",
      "OOXXOOXXOO\n",
      "OXOXOXOXOXOXOX\n",
      "OOOOOOOOOO\n",
      "OOOOXOOOOXOOOOX\n",
      "10\n",
      "9\n",
      "7\n",
      "55\n",
      "30\n"
     ]
    }
   ],
   "source": [
    "n=int(input())\n",
    "score=[]\n",
    "for i in range(n):\n",
    "    str=input()\n",
    "    arr=list(str)\n",
    "    cnt=0; sum=0\n",
    "    for j in range(len(str)):\n",
    "        if arr[j]==\"O\":\n",
    "            cnt+=1\n",
    "            sum+=cnt\n",
    "        else:\n",
    "            cnt=0\n",
    "    score.append(sum)\n",
    "for i in range(n):\n",
    "    print(score[i])"
   ]
  },
  {
   "cell_type": "markdown",
   "metadata": {},
   "source": [
    "### 4344. 평균은 넘겠지"
   ]
  },
  {
   "cell_type": "code",
   "execution_count": 32,
   "metadata": {},
   "outputs": [
    {
     "name": "stdout",
     "output_type": "stream",
     "text": [
      "5\n",
      "5 50 50 70 80 100\n"
     ]
    },
    {
     "ename": "TypeError",
     "evalue": "'int' object is not callable",
     "output_type": "error",
     "traceback": [
      "\u001b[1;31m---------------------------------------------------------------------------\u001b[0m",
      "\u001b[1;31mTypeError\u001b[0m                                 Traceback (most recent call last)",
      "\u001b[1;32m<ipython-input-32-74f8f98601f2>\u001b[0m in \u001b[0;36m<module>\u001b[1;34m\u001b[0m\n\u001b[0;32m      4\u001b[0m     \u001b[0marr\u001b[0m\u001b[1;33m=\u001b[0m\u001b[0mlist\u001b[0m\u001b[1;33m(\u001b[0m\u001b[0mmap\u001b[0m\u001b[1;33m(\u001b[0m\u001b[0mint\u001b[0m\u001b[1;33m,\u001b[0m\u001b[0minput\u001b[0m\u001b[1;33m(\u001b[0m\u001b[1;33m)\u001b[0m\u001b[1;33m.\u001b[0m\u001b[0msplit\u001b[0m\u001b[1;33m(\u001b[0m\u001b[1;33m)\u001b[0m\u001b[1;33m)\u001b[0m\u001b[1;33m)\u001b[0m\u001b[1;33m\u001b[0m\u001b[1;33m\u001b[0m\u001b[0m\n\u001b[0;32m      5\u001b[0m     \u001b[0mn\u001b[0m\u001b[1;33m=\u001b[0m\u001b[0marr\u001b[0m\u001b[1;33m[\u001b[0m\u001b[1;36m0\u001b[0m\u001b[1;33m]\u001b[0m\u001b[1;33m\u001b[0m\u001b[1;33m\u001b[0m\u001b[0m\n\u001b[1;32m----> 6\u001b[1;33m     \u001b[0ms\u001b[0m \u001b[1;33m=\u001b[0m \u001b[0msum\u001b[0m\u001b[1;33m(\u001b[0m\u001b[0marr\u001b[0m\u001b[1;33m)\u001b[0m\u001b[1;33m\u001b[0m\u001b[1;33m\u001b[0m\u001b[0m\n\u001b[0m\u001b[0;32m      7\u001b[0m     \u001b[0mavg\u001b[0m \u001b[1;33m=\u001b[0m \u001b[1;33m(\u001b[0m\u001b[0msum\u001b[0m\u001b[1;33m(\u001b[0m\u001b[0marr\u001b[0m\u001b[1;33m)\u001b[0m\u001b[1;33m-\u001b[0m\u001b[0mn\u001b[0m\u001b[1;33m)\u001b[0m\u001b[1;33m/\u001b[0m\u001b[0mn\u001b[0m\u001b[1;33m\u001b[0m\u001b[1;33m\u001b[0m\u001b[0m\n\u001b[0;32m      8\u001b[0m     \u001b[0mcnt\u001b[0m\u001b[1;33m=\u001b[0m\u001b[1;36m0\u001b[0m\u001b[1;33m\u001b[0m\u001b[1;33m\u001b[0m\u001b[0m\n",
      "\u001b[1;31mTypeError\u001b[0m: 'int' object is not callable"
     ]
    }
   ],
   "source": [
    "# sum()함수 사용 -> 지금은 앞에서 sum변수를 너무많이 사용해서 에러\n",
    "# sum은 함수명이기 때문에 변수명으로 사용하면 안됨\n",
    "# 퍼센티지 출력할 때는 %f%% -> %%이렇게 두개 써줘야함\n",
    "# 6.3f는 소수점 포함 6자리 확보하고 소수점 이하 3자리까지 출력하라는 뜻\n",
    "c=int(input())\n",
    "for i in range(c):\n",
    "    arr=list(map(int,input().split()))\n",
    "    n=arr[0]\n",
    "    avg = (sum(arr)-n)/n\n",
    "    cnt=0\n",
    "    for j in range(1,n+1,1):\n",
    "        if arr[j]>avg:\n",
    "            cnt+=1\n",
    "    print(\"%6.3f%%\"%(cnt/n*100))"
   ]
  }
 ],
 "metadata": {
  "kernelspec": {
   "display_name": "Python 3",
   "language": "python",
   "name": "python3"
  },
  "language_info": {
   "codemirror_mode": {
    "name": "ipython",
    "version": 3
   },
   "file_extension": ".py",
   "mimetype": "text/x-python",
   "name": "python",
   "nbconvert_exporter": "python",
   "pygments_lexer": "ipython3",
   "version": "3.8.5"
  }
 },
 "nbformat": 4,
 "nbformat_minor": 4
}
